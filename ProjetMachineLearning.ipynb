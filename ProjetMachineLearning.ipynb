{
  "nbformat": 4,
  "nbformat_minor": 0,
  "metadata": {
    "colab": {
      "provenance": [],
      "include_colab_link": true
    },
    "kernelspec": {
      "name": "python3",
      "display_name": "Python 3"
    },
    "language_info": {
      "name": "python"
    }
  },
  "cells": [
    {
      "cell_type": "markdown",
      "metadata": {
        "id": "view-in-github",
        "colab_type": "text"
      },
      "source": [
        "<a href=\"https://colab.research.google.com/github/adele9244/P1/blob/main/ProjetMachineLearning.ipynb\" target=\"_parent\"><img src=\"https://colab.research.google.com/assets/colab-badge.svg\" alt=\"Open In Colab\"/></a>"
      ]
    },
    {
      "cell_type": "code",
      "execution_count": null,
      "metadata": {
        "id": "jzM-mU9W9Wcn"
      },
      "outputs": [],
      "source": [
        "import pandas as pd\n",
        "import numpy as np\n",
        "import matplotlib.pyplot as plt\n",
        "import seaborn as sns"
      ]
    },
    {
      "cell_type": "markdown",
      "source": [
        "# **Data Analysis**\n",
        " Dataset analysis : number of columns/rows, number of values, variables definition, quality, visualization, correlation analysis, data\n",
        "balance, etc…"
      ],
      "metadata": {
        "id": "9KJQkCk1-0wN"
      }
    },
    {
      "cell_type": "code",
      "source": [
        "data=pd.read_csv('')\n",
        "print(data.head())"
      ],
      "metadata": {
        "id": "H8S3mSre9gb1"
      },
      "execution_count": null,
      "outputs": []
    },
    {
      "cell_type": "code",
      "source": [
        "data.describe()"
      ],
      "metadata": {
        "id": "3XnwIUO-9oDT"
      },
      "execution_count": null,
      "outputs": []
    },
    {
      "cell_type": "code",
      "source": [
        "data.shape"
      ],
      "metadata": {
        "id": "Axt-1Yqm9rOv"
      },
      "execution_count": null,
      "outputs": []
    },
    {
      "cell_type": "markdown",
      "source": [
        "# **Pre processing of our data :**\n",
        "missing values, duplicates, inconsistencies, outliers, encoding, scaling, train-test-split…"
      ],
      "metadata": {
        "id": "n5My6rCy95JB"
      }
    },
    {
      "cell_type": "code",
      "source": [
        "print(data.isna().sum())"
      ],
      "metadata": {
        "id": "7F217Dnl9uKO"
      },
      "execution_count": null,
      "outputs": []
    },
    {
      "cell_type": "markdown",
      "source": [
        "# **1st model...**"
      ],
      "metadata": {
        "id": "t8_l3sR4_K_x"
      }
    }
  ]
}